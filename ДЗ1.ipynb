{
  "nbformat": 4,
  "nbformat_minor": 0,
  "metadata": {
    "colab": {
      "provenance": [],
      "authorship_tag": "ABX9TyOqYuM0nNa/a42yl7BbLP8j"
    },
    "kernelspec": {
      "name": "python3",
      "display_name": "Python 3"
    },
    "language_info": {
      "name": "python"
    }
  },
  "cells": [
    {
      "cell_type": "markdown",
      "source": [
        "Задача 1. Найти сумму цифр трехзначного числа"
      ],
      "metadata": {
        "id": "SbpfxR01IPtA"
      }
    },
    {
      "cell_type": "code",
      "execution_count": 9,
      "metadata": {
        "colab": {
          "base_uri": "https://localhost:8080/"
        },
        "id": "QT2fEqICDfWy",
        "outputId": "722b03cf-ee51-427c-b94e-ccceedd27b36"
      },
      "outputs": [
        {
          "output_type": "stream",
          "name": "stdout",
          "text": [
            "Введите трехзначное число:rgr\n",
            "Вы ввели не число!\n",
            "Введите трехзначное число:-34\n",
            "Число должно быть поожительным\n",
            "Введите трехзначное число:45\n",
            "Необходимо ввести ТРЕХЗНАЧНОЕ число\n",
            "Введите трехзначное число:111\n",
            "Сумма цифр числа 111 равна 3\n"
          ]
        }
      ],
      "source": [
        "while True:\n",
        "  try:\n",
        "    num = int(input('Введите трехзначное число:'))\n",
        "  except ValueError:\n",
        "    print('Вы ввели не число!')\n",
        "    continue\n",
        "\n",
        "  if num < 0:\n",
        "    print('Число должно быть поожительным')\n",
        "    continue\n",
        "  elif num < 100:\n",
        "    print('Необходимо ввести ТРЕХЗНАЧНОЕ число')\n",
        "    continue\n",
        "  break\n",
        "\n",
        "sum_of_number = 0\n",
        "\n",
        "for n in str(num):\n",
        "  sum_of_number += int(n)\n",
        "\n",
        "print(f'Сумма цифр числа {num} равна {sum_of_number}')"
      ]
    },
    {
      "cell_type": "markdown",
      "source": [
        "Задача 2.  Петя, Катя и Сережа делают из бумаги журавликов. Вместе они сделали S журавликов. Сколько журавликов сделал каждый ребенок, если известно, что Петя и Сережа сделали одинаковое количество журавликов, а Катя сделала в два раза больше журавликов, чем Петя и Сережа вместе?"
      ],
      "metadata": {
        "id": "q8IiF4XQIlu_"
      }
    },
    {
      "cell_type": "code",
      "source": [
        "while True:\n",
        "  try:\n",
        "    count_crane = int(input('Введите количество журавликов:'))\n",
        "  except ValueError:\n",
        "    print('Вы ввели не число!')\n",
        "    continue\n",
        "\n",
        "  if count_crane < 0:\n",
        "    print('Журавликов не может быть меньше 0')\n",
        "    continue\n",
        "\n",
        "  break\n",
        "\n",
        "if count_crane == 0:\n",
        "  print('Ребята пробаловались и не сделали ни одного журавля')\n",
        "else:\n",
        "  if count_crane % 4 != 0:\n",
        "    print('Такого количества журавликов быть не может')\n",
        "\n",
        "  else:\n",
        "    x = int(count_crane / 4)\n",
        "    print(f'Всего дети сделали журавлей: {count_crane}')\n",
        "    print(f'Петя сделал: {x}')\n",
        "    print(f'Сережа сделал: {x}')\n",
        "    print(f'Катя сделала: {2 * x}')"
      ],
      "metadata": {
        "colab": {
          "base_uri": "https://localhost:8080/"
        },
        "id": "wp-N9DsiE8an",
        "outputId": "034c68aa-ef41-4e6d-a228-287fb9c59ab1"
      },
      "execution_count": 14,
      "outputs": [
        {
          "output_type": "stream",
          "name": "stdout",
          "text": [
            "Введите количество журавликов:24\n",
            "Всего дети сделали журавлей: 24\n",
            "Петя сделал: 6\n",
            "Сережа сделал: 6\n",
            "Катя сделала: 12\n"
          ]
        }
      ]
    },
    {
      "cell_type": "markdown",
      "source": [
        "Задача 3. Вы пользуетесь общественным транспортом? Вероятно, вы расплачивались за проезд и получали билет с номером. Счастливым билетом называют такой билет с шестизначным номером, где сумма первых трех цифр равна сумме последних трех. Т.е. билет с номером 385916 – счастливый, т.к. 3+8+5=9+1+6. Вам требуется написать программу, которая проверяет счастливость билета."
      ],
      "metadata": {
        "id": "qBPeuwoOL016"
      }
    },
    {
      "cell_type": "code",
      "source": [
        "while True:\n",
        "  try:\n",
        "    num = int(input('Введите номер билета:'))\n",
        "  except ValueError:\n",
        "    print('Номер может содержать только цифры')\n",
        "    continue\n",
        "\n",
        "  if num < 0:\n",
        "    print('Такого номера не существует')\n",
        "    continue\n",
        "\n",
        "  if len(str(num)) != 6:\n",
        "    print('Не верное количество цифр')\n",
        "    continue\n",
        "\n",
        "  break\n",
        "\n",
        "sum_1 = 0\n",
        "sum_2 = 0\n",
        "\n",
        "str_num = str(num)\n",
        "\n",
        "for i in range(1, 4):\n",
        "  sum_1 += int(str_num[i-1])\n",
        "  sum_2 += int(str_num[-i])\n",
        "\n",
        "if sum_1 == sum_2:\n",
        "  print(f'Поздравляем!\\nУ Вас счастливый билетик!')\n",
        "\n",
        "else:\n",
        "  print('Может, повезет в следующий раз')"
      ],
      "metadata": {
        "colab": {
          "base_uri": "https://localhost:8080/"
        },
        "id": "-AWGwHo1MLlQ",
        "outputId": "dd0ac7bc-e28b-42f5-b430-4352efb9615e"
      },
      "execution_count": 30,
      "outputs": [
        {
          "output_type": "stream",
          "name": "stdout",
          "text": [
            "Введите номер билета:123456\n",
            "Может, повезет в следующий раз\n"
          ]
        }
      ]
    },
    {
      "cell_type": "markdown",
      "source": [
        "Задача 4. Требуется определить, можно ли от шоколадки размером n × m долек отломить k долек, если разрешается сделать один разлом по прямой между дольками (то есть разломить шоколадку на два прямоугольника)."
      ],
      "metadata": {
        "id": "IDSLv0u8PHjW"
      }
    },
    {
      "cell_type": "code",
      "source": [
        "while True:\n",
        "  try:\n",
        "    n = int(input('Введите высоту плитки:'))\n",
        "    m = int(input('Введите длину плитки:'))\n",
        "    k = int(input('Сколько долек отломить:'))\n",
        "  except ValueError:\n",
        "    print('Нужно число')\n",
        "    continue\n",
        "  \n",
        "  break\n",
        "\n",
        "if n * m == k:\n",
        "  print('Держи всю плитку')\n",
        "\n",
        "elif n * m < k:\n",
        "  print('У меня нет столько')\n",
        "\n",
        "else:\n",
        "  if k % m == 0 or k % n == 0:\n",
        "    print('Держи свои дольки')\n",
        "\n",
        "  else:\n",
        "    print('Я не могу так разломить')"
      ],
      "metadata": {
        "colab": {
          "base_uri": "https://localhost:8080/"
        },
        "id": "Kea4yp-ROF-l",
        "outputId": "5dd0d970-6bb4-42fa-f16d-b70f54b7a30f"
      },
      "execution_count": 29,
      "outputs": [
        {
          "output_type": "stream",
          "name": "stdout",
          "text": [
            "Введите высоту плитки:3\n",
            "Введите длину плитки:4\n",
            "Сколько долек отломить:7\n",
            "3 4 7\n",
            "Я не могу так разломить\n"
          ]
        }
      ]
    }
  ]
}