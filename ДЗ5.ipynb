{
  "nbformat": 4,
  "nbformat_minor": 0,
  "metadata": {
    "colab": {
      "provenance": [],
      "authorship_tag": "ABX9TyMvvQN5ydF5SNA14AeJ4zCt"
    },
    "kernelspec": {
      "name": "python3",
      "display_name": "Python 3"
    },
    "language_info": {
      "name": "python"
    }
  },
  "cells": [
    {
      "cell_type": "markdown",
      "source": [
        "Напишите программу, которая на вход принимает два числа A и B, и возводит число А в целую степень B с помощью рекурсии.\n",
        "\n",
        "*Пример:*\n",
        "\n",
        "A = 3; B = 5 -> 243 (3⁵)\n",
        "    A = 2; B = 3 -> 8 "
      ],
      "metadata": {
        "id": "DDsxGsl5ZU0o"
      }
    },
    {
      "cell_type": "code",
      "execution_count": 15,
      "metadata": {
        "colab": {
          "base_uri": "https://localhost:8080/"
        },
        "id": "DjU43op-U6-v",
        "outputId": "33053356-b207-49ec-bb37-e6cd369e109c"
      },
      "outputs": [
        {
          "output_type": "stream",
          "name": "stdout",
          "text": [
            "Введите число: 2\n",
            "Введите степень: 2\n",
            "2 в степени 2 равно 4\n"
          ]
        }
      ],
      "source": [
        "def exp_a_b(num, exp):\n",
        "  if exp < 0:\n",
        "    num = 1 / num\n",
        "    exp = -exp\n",
        "  \n",
        "  if exp == 0:\n",
        "    return 1\n",
        "\n",
        "  elif exp == 1:\n",
        "    return num\n",
        "\n",
        "  return exp_a_b(num, exp - 1) * num\n",
        "\n",
        "a = int(input('Введите число: '))\n",
        "b = int(input('Введите степень: '))\n",
        "\n",
        "\n",
        "print(f'{a} в степени {b} равно {exp_a_b(a, b)}')"
      ]
    },
    {
      "cell_type": "markdown",
      "source": [
        "Напишите рекурсивную функцию sum(a, b), возвращающую сумму двух целых неотрицательных чисел. Из всех арифметических операций допускаются только +1 и -1. Также нельзя использовать циклы.\n",
        "\n",
        "*Пример:*\n",
        "\n",
        "2 2\n",
        "\n",
        "    4"
      ],
      "metadata": {
        "id": "CXuzOapinQ5-"
      }
    },
    {
      "cell_type": "code",
      "source": [
        "def sum_a_b(a, b):\n",
        "  if a == 0:\n",
        "    print(f'всего: {b}')\n",
        "  else:\n",
        "    return sum_a_b(a-1, b+1)\n",
        "  \n",
        "\n",
        "a = int(input('Введите число a: '))\n",
        "b = int(input('Введите число b: '))\n",
        "\n",
        "sum_a_b(a, b)"
      ],
      "metadata": {
        "colab": {
          "base_uri": "https://localhost:8080/"
        },
        "id": "hnsiIthrkP45",
        "outputId": "b1471ecb-7a19-4af0-ccad-2bd42acd31f4"
      },
      "execution_count": 22,
      "outputs": [
        {
          "output_type": "stream",
          "name": "stdout",
          "text": [
            "Введите число a: 4\n",
            "Введите число b: 5\n",
            "всего: 9\n"
          ]
        }
      ]
    },
    {
      "cell_type": "code",
      "source": [],
      "metadata": {
        "id": "3he1WHr_o-QD"
      },
      "execution_count": null,
      "outputs": []
    }
  ]
}