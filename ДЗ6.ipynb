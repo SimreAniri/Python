{
  "nbformat": 4,
  "nbformat_minor": 0,
  "metadata": {
    "colab": {
      "provenance": [],
      "authorship_tag": "ABX9TyOYrXozzJUqr4/Tc6PpvwVa"
    },
    "kernelspec": {
      "name": "python3",
      "display_name": "Python 3"
    },
    "language_info": {
      "name": "python"
    }
  },
  "cells": [
    {
      "cell_type": "markdown",
      "source": [
        "Задача 30:  Заполните массив элементами арифметической прогрессии. Её первый элемент, разность и количество элементов нужно ввести с клавиатуры. Формула для получения n-го члена прогрессии: an = a1 + (n-1) * d.\n",
        "Каждое число вводится с новой строки."
      ],
      "metadata": {
        "id": "Ebk1Zmv8t1sK"
      }
    },
    {
      "cell_type": "code",
      "execution_count": 2,
      "metadata": {
        "colab": {
          "base_uri": "https://localhost:8080/"
        },
        "id": "wIR2FhG0tz0B",
        "outputId": "820c40d2-466c-4e99-fb31-6c0fa63c11a2"
      },
      "outputs": [
        {
          "output_type": "stream",
          "name": "stdout",
          "text": [
            "Введите начальный элемент арифметической прогрессии: 1\n",
            "Введите разность арифметической прогрессии: 1\n",
            "Введите количество элементов: 5\n",
            "\n",
            "Арифметическая прогрессия с данными параметрами:\n",
            "[1, 2, 3, 4, 5]\n"
          ]
        }
      ],
      "source": [
        "n_0 = int(input('Введите начальный элемент арифметической прогрессии: '))\n",
        "d = int(input('Введите разность арифметической прогрессии: '))\n",
        "n = int(input('Введите количество элементов: '))\n",
        "\n",
        "list_n = [n_0 + (i - 1)*d for i in range(1, n + 1)]\n",
        "\n",
        "print('\\nАрифметическая прогрессия с данными параметрами:')\n",
        "print(list_n)"
      ]
    },
    {
      "cell_type": "markdown",
      "source": [
        "Определить индексы элементов массива (списка), значения которых принадлежат заданному диапазону (т.е. не меньше заданного минимума и не больше заданного максимума)"
      ],
      "metadata": {
        "id": "TscywFI9w_ye"
      }
    },
    {
      "cell_type": "code",
      "source": [
        "from random import randint\n",
        "\n",
        "n = randint(10, 25)\n",
        "\n",
        "num_list = [randint(-50, 50) for _ in range(n)]\n",
        "\n",
        "print('Массив:')\n",
        "print(num_list, '\\n')\n",
        "\n",
        "min_num = int(input('Введите минимальное число: '))\n",
        "max_num = int(input('Введите максимальное число: '))\n",
        "\n",
        "print('\\nИндексы чисел в этом диапазоне:')\n",
        "for i in range(len(num_list)):\n",
        "  if num_list[i] <= max_num and num_list[i] >= min_num:\n",
        "    print(i, end=' ')"
      ],
      "metadata": {
        "colab": {
          "base_uri": "https://localhost:8080/"
        },
        "id": "5kZCPTvgwum2",
        "outputId": "9f12925f-0103-4451-c07a-5577d47a3575"
      },
      "execution_count": 8,
      "outputs": [
        {
          "output_type": "stream",
          "name": "stdout",
          "text": [
            "Массив:\n",
            "[-15, -35, 32, -8, 10, 3, 49, -23, -16, 8, 41, 40, -23, -39, -33, 48] \n",
            "\n",
            "Введите минимальное число: 0\n",
            "Введите максимальное число: 23\n",
            "\n",
            "Индексы чисел в этом диапазоне:\n",
            "4 5 9 "
          ]
        }
      ]
    },
    {
      "cell_type": "markdown",
      "source": [
        "Реализовать консольную игру в крестики-нолики.\n",
        "Условия:\n",
        "- Игровое поле одномерный массив с номерами ячеек [1,2,3,4,5,6,7,8,9]\n",
        "- Ход пользователя осуществляется путем ввода номера свободной ячейки"
      ],
      "metadata": {
        "id": "REiu0H6fAmft"
      }
    },
    {
      "cell_type": "code",
      "source": [
        "def print_game(game_list):\n",
        "  print(game_list[0], '|', game_list[1], '|', game_list[2])\n",
        "  print('--  --  --')\n",
        "  print(game_list[3], '|', game_list[4], '|', game_list[5])\n",
        "  print('--  --  --')\n",
        "  print(game_list[6], '|', game_list[7], '|', game_list[8])\n",
        "\n",
        "def test_win(game_list, move):\n",
        "  if move in [1, 3, 4, 6, 7, 9]:\n",
        "    if move in [1, 4, 7] and game_list[move - 1] == game_list[move] == game_list[move + 1]:\n",
        "      return 'WIN'\n",
        "\n",
        "    elif move in [3, 6, 9] and game_list[move - 1] == game_list[move - 2] == game_list[move - 3]:\n",
        "      return 'WIN'\n",
        "\n",
        "    elif move in [1, 9] and game_list[0] == game_list[4] == game_list[8]:\n",
        "      return 'WIN'\n",
        "\n",
        "    elif move in [3, 7] and game_list[6] == game_list[4] == game_list[2]:\n",
        "      return 'WIN'\n",
        "\n",
        "    elif game_list[0] == game_list[3] == game_list[6]:\n",
        "      return 'WIN'\n",
        "\n",
        "\n",
        "game = ['1', '2', '3', '4', '5', '6', '7', '8', '9']\n",
        "\n",
        "print('Игра началась!')\n",
        "print_game(game)\n",
        "\n"
      ],
      "metadata": {
        "colab": {
          "base_uri": "https://localhost:8080/"
        },
        "id": "DxDHQz2m-pFM",
        "outputId": "e4884083-2b57-4a65-914d-9f81eab05ca4"
      },
      "execution_count": 15,
      "outputs": [
        {
          "output_type": "stream",
          "name": "stdout",
          "text": [
            "Игра началась!\n",
            "1 | 2 | 3\n",
            "--  --  --\n",
            "4 | 5 | 6\n",
            "--  --  --\n",
            "7 | 8 | 9\n"
          ]
        }
      ]
    },
    {
      "cell_type": "code",
      "source": [],
      "metadata": {
        "id": "BDshrAndBwfM"
      },
      "execution_count": null,
      "outputs": []
    }
  ]
}