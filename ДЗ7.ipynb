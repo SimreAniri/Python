{
  "nbformat": 4,
  "nbformat_minor": 0,
  "metadata": {
    "colab": {
      "provenance": [],
      "authorship_tag": "ABX9TyMhLGwHecv/3VMB7tPwKWb3"
    },
    "kernelspec": {
      "name": "python3",
      "display_name": "Python 3"
    },
    "language_info": {
      "name": "python"
    }
  },
  "cells": [
    {
      "cell_type": "markdown",
      "source": [
        "Задача 34:  Винни-Пух попросил Вас посмотреть, есть ли в его стихах ритм. Поскольку разобраться в его кричалках не настолько просто, насколько легко он их придумывает, Вам стоит написать программу. Винни-Пух считает, что ритм есть, если число слогов (т.е. число гласных букв) в каждой фразе стихотворения одинаковое. Фраза может состоять из одного слова, если во фразе несколько слов, то они разделяются дефисами. Фразы отделяются друг от друга пробелами. Стихотворение  Винни-Пух вбивает в программу с клавиатуры. В ответе напишите “Парам пам-пам”, если с ритмом все в порядке и “Пам парам”, если с ритмом все не в порядке\n",
        "\n",
        "*Пример:*\n",
        "\n",
        "**Ввод:** пара-ра-рам рам-пам-папам па-ра-па-да    \n",
        "    **Вывод:** Парам пам-пам  "
      ],
      "metadata": {
        "id": "UM89wHGVT76S"
      }
    },
    {
      "cell_type": "code",
      "execution_count": 12,
      "metadata": {
        "colab": {
          "base_uri": "https://localhost:8080/"
        },
        "id": "kSFL0a7cT479",
        "outputId": "986c48e2-21af-4bb5-a51a-4f65747c4dfd"
      },
      "outputs": [
        {
          "output_type": "stream",
          "name": "stdout",
          "text": [
            "Введи песенку: пара-ра-рам рам-пам-папам па-ра-па-да\n",
            "Парам пам-пам\n"
          ]
        }
      ],
      "source": [
        "#song = 'пара-ра-рам рам-пам-папам па-ра-па-да'\n",
        "\n",
        "song = input('Введи песенку: ')\n",
        "\n",
        "song_list = song.split()\n",
        "\n",
        "vow = 'eyuoaуеыаоэяию'\n",
        "\n",
        "ritm_count = 0\n",
        "ritm = -1\n",
        "\n",
        "flag = 1\n",
        "\n",
        "for str_song in song_list:\n",
        "  for let in str_song:\n",
        "    if let in vow:\n",
        "      ritm_count += 1\n",
        "\n",
        "  if ritm == -1:\n",
        "    ritm = ritm_count\n",
        "    ritm_count = 0\n",
        "    continue\n",
        "\n",
        "  if ritm_count != ritm:\n",
        "    flag = 0\n",
        "    break\n",
        "\n",
        "  ritm_count = 0\n",
        "\n",
        "if not flag:\n",
        "  print('Пам парам')\n",
        "\n",
        "else:\n",
        "  print('Парам пам-пам')"
      ]
    },
    {
      "cell_type": "markdown",
      "source": [
        "Задача 36: Напишите функцию print_operation_table(operation, num_rows=6, num_columns=6), которая принимает в качестве аргумента функцию, вычисляющую элемент по номеру строки и столбца. Аргументы num_rows и num_columns указывают число строк и столбцов таблицы, которые должны быть распечатаны. Нумерация строк и столбцов идет с единицы (подумайте, почему не с нуля). Примечание: бинарной операцией называется любая операция, у которой ровно два аргумента, как, например, у операции умножения.\n",
        "\n",
        "*Пример:*\n",
        "\n",
        "**Ввод:** `print_operation_table(lambda x, y: x * y) ` \n",
        "\n",
        "**Вывод:**\n",
        "1 2 3 4 5 6\n",
        "\n",
        "2 4 6 8 10 12\n",
        "\n",
        "3 6 9 12 15 18\n",
        "\n",
        "4 8 12 16 20 24\n",
        "\n",
        "5 10 15 20 25 30\n",
        "\n",
        "6 12 18 24 30 36"
      ],
      "metadata": {
        "id": "gFOzVVIZmhCC"
      }
    },
    {
      "cell_type": "code",
      "source": [
        "def print_operation_table(operation, num_rows=6, num_columns=6):\n",
        "  print(*[i for i in range(num_columns + 1)])\n",
        "  for row in range(1, num_rows + 1):\n",
        "    print(row, end=' ')\n",
        "\n",
        "    for column in range(1, num_columns + 1):\n",
        "      print(operation(column, row), end=' ')\n",
        "\n",
        "    print()\n",
        "\n",
        "def sum(x, y):\n",
        "  return x + y\n",
        "\n",
        "def mult(x, y):\n",
        "  return x * y\n",
        "\n",
        "\n",
        "print_operation_table(sum, 4, 4)\n",
        "print()\n",
        "print_operation_table(mult, 5, 5)"
      ],
      "metadata": {
        "colab": {
          "base_uri": "https://localhost:8080/"
        },
        "id": "mD0luzNUkK-1",
        "outputId": "698193d6-2bde-47a5-c4fc-8aa4105bc5f3"
      },
      "execution_count": 19,
      "outputs": [
        {
          "output_type": "stream",
          "name": "stdout",
          "text": [
            "0 1 2 3 4\n",
            "1 2 3 4 5 \n",
            "2 3 4 5 6 \n",
            "3 4 5 6 7 \n",
            "4 5 6 7 8 \n",
            "\n",
            "0 1 2 3 4 5\n",
            "1 1 2 3 4 5 \n",
            "2 2 4 6 8 10 \n",
            "3 3 6 9 12 15 \n",
            "4 4 8 12 16 20 \n",
            "5 5 10 15 20 25 \n"
          ]
        }
      ]
    },
    {
      "cell_type": "code",
      "source": [],
      "metadata": {
        "id": "2jh6jzNSpL5k"
      },
      "execution_count": null,
      "outputs": []
    }
  ]
}