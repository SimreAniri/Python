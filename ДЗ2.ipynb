{
  "nbformat": 4,
  "nbformat_minor": 0,
  "metadata": {
    "colab": {
      "provenance": [],
      "authorship_tag": "ABX9TyPRzHN2QcUbWPz8Ac6O+OHp"
    },
    "kernelspec": {
      "name": "python3",
      "display_name": "Python 3"
    },
    "language_info": {
      "name": "python"
    }
  },
  "cells": [
    {
      "cell_type": "markdown",
      "source": [
        "Задача 10: На столе лежат n монеток. Некоторые из них лежат вверх решкой, а некоторые – гербом. Определите минимальное число монеток, которые нужно перевернуть, чтобы все монетки были повернуты вверх одной и той же стороной. Выведите минимальное количество монет, которые нужно перевернуть"
      ],
      "metadata": {
        "id": "RdkV4Aji_FTs"
      }
    },
    {
      "cell_type": "code",
      "execution_count": 35,
      "metadata": {
        "colab": {
          "base_uri": "https://localhost:8080/"
        },
        "id": "iPhqtGHl_ElT",
        "outputId": "e0392b1c-73d7-41bc-ada7-c9db28edb30d"
      },
      "outputs": [
        {
          "output_type": "stream",
          "name": "stdout",
          "text": [
            "На столе лежат монеты:\n",
            "[0, 1, 0, 0, 0, 1, 1, 1, 1, 1, 1]\n",
            "Counter({1: 7, 0: 4}) 2\n",
            "Орлов 4\n",
            "Решек 7\n",
            "Переверни решки. Количество, которое нужно перевернуть: 4. На столе орлы.\n"
          ]
        }
      ],
      "source": [
        "from random import randint, choice\n",
        "from collections import Counter\n",
        "\n",
        "N = randint(0, 20) #количество монеток на столе\n",
        "COIN_SIDES = [0, 1] # стороны монеток. 1 - решка, 0 - орел\n",
        "\n",
        "coins_on_table = [choice(COIN_SIDES) for _ in range(N)]\n",
        "print('На столе лежат монеты:')\n",
        "print(coins_on_table)\n",
        "\n",
        "count_of_sides = Counter(coins_on_table)\n",
        "print(count_of_sides, len(count_of_sides))\n",
        "\n",
        "if not coins_on_table:\n",
        "  print('На столе пусто')\n",
        "\n",
        "else:\n",
        "  for key in count_of_sides:\n",
        "    if key == 1:\n",
        "      print(f'Решек {count_of_sides[1]}')\n",
        "      \n",
        "      if count_of_sides[1] == len(coins_on_table):\n",
        "        print('Ничего переворачивать не нужно. Все решки.')\n",
        "\n",
        "    if key == 0:\n",
        "      print(f'Орлов {count_of_sides[0]}')\n",
        "\n",
        "      if count_of_sides[0] == len(coins_on_table):\n",
        "        print('Ничего переворачивать не нужно. Все орлы.')\n",
        "\n",
        "  if len(count_of_sides) > 1:\n",
        "    if count_of_sides[1] > count_of_sides[0]:\n",
        "      print(f'Переверни решки. Количество, которое нужно перевернуть: {count_of_sides[0]}. На столе орлы.')\n",
        "\n",
        "    elif count_of_sides[0] > count_of_sides[1]:\n",
        "      print(f'Переверни орлов. Количество, которое нужно перевернуть: {count_of_sides[1]}. На столе решки.')\n",
        "\n",
        "    else:\n",
        "      print(f'Переверни монеты, лежащие одной стороной. Количество, которое нужно перевернуть: {count_of_sides[1]}. Все стороны теперь одинаковые.')\n"
      ]
    },
    {
      "cell_type": "markdown",
      "source": [
        "Задача 12: Петя и Катя – брат и сестра. Петя – студент, а Катя – школьница. Петя помогает Кате по математике. Он задумывает два натуральных числа X и Y (X,Y≤1000), а Катя должна их отгадать. Для этого Петя делает две подсказки. Он называет сумму этих чисел S и их произведение P. Помогите Кате отгадать задуманные Петей числа."
      ],
      "metadata": {
        "id": "c1C8r3kBK0l5"
      }
    },
    {
      "cell_type": "code",
      "source": [
        "from random import randint\n",
        "from math import sqrt\n",
        "\n",
        "A = randint(1, 1001)\n",
        "B = randint(1, 1001)\n",
        "\n",
        "sum_ab = A + B\n",
        "mult_ab = A * B\n",
        "\n",
        "d = sum_ab ** 2 - 4 * mult_ab\n",
        "a = int((-sum_ab + sqrt(d)) / (-2))\n",
        "b = int((-sum_ab - sqrt(d)) / (-2))\n",
        "\n",
        "print(f'Петя загадал {A} и {B}')\n",
        "print(f'Ответ Кати: {a} и {b}')"
      ],
      "metadata": {
        "colab": {
          "base_uri": "https://localhost:8080/"
        },
        "id": "RbEdH3YyK8Ar",
        "outputId": "d51397e0-f8e2-4a05-eb81-8f1813c45048"
      },
      "execution_count": 41,
      "outputs": [
        {
          "output_type": "stream",
          "name": "stdout",
          "text": [
            "Петя загадал 927 и 949\n",
            "Ответ Кати: 927 и 949\n"
          ]
        }
      ]
    },
    {
      "cell_type": "markdown",
      "source": [
        "Задача 14: Требуется вывести все целые степени двойки (т.е. числа вида 2k), не превосходящие числа N."
      ],
      "metadata": {
        "id": "GylgKgZjOcNt"
      }
    },
    {
      "cell_type": "code",
      "source": [
        "N = int(input('Введите целое число больше 0:'))\n",
        "\n",
        "deg_2 = 1\n",
        "\n",
        "if N == 0:\n",
        "  print('Таких степеней нет')\n",
        "\n",
        "else:\n",
        "  print(f'Степени 2-ки, которые меньше: {N}')\n",
        "  while deg_2 <= N:\n",
        "    print(deg_2, end=' ')\n",
        "    deg_2 *= 2"
      ],
      "metadata": {
        "colab": {
          "base_uri": "https://localhost:8080/"
        },
        "id": "phHfOyfdNOKT",
        "outputId": "cdf41874-4478-4ccf-add7-7342d2713f66"
      },
      "execution_count": 55,
      "outputs": [
        {
          "output_type": "stream",
          "name": "stdout",
          "text": [
            "Введите целое число больше 0:32\n",
            "Степени 2-ки, которые меньше: 32\n",
            "1 2 4 8 16 32 "
          ]
        }
      ]
    }
  ]
}