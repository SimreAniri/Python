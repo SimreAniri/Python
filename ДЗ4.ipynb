{
  "nbformat": 4,
  "nbformat_minor": 0,
  "metadata": {
    "colab": {
      "provenance": [],
      "authorship_tag": "ABX9TyOuoAfjtImeGoApm6RgB3rN"
    },
    "kernelspec": {
      "name": "python3",
      "display_name": "Python 3"
    },
    "language_info": {
      "name": "python"
    }
  },
  "cells": [
    {
      "cell_type": "markdown",
      "source": [
        "Задача 22: Даны два неупорядоченных набора целых чисел (может быть, с повторениями). Выдать без повторений в порядке возрастания все те числа, которые встречаются в обоих наборах.\n",
        "Пользователь вводит 2 числа. n - кол-во элементов первого множества. m - кол-во элементов второго множества. Затем пользователь вводит сами элементы множеств."
      ],
      "metadata": {
        "id": "qC_iWLwcV5j5"
      }
    },
    {
      "cell_type": "code",
      "execution_count": 10,
      "metadata": {
        "id": "R5XDM6oPWCh1",
        "colab": {
          "base_uri": "https://localhost:8080/"
        },
        "outputId": "ac825047-5cbb-4091-d996-08aa20ffa74b"
      },
      "outputs": [
        {
          "output_type": "stream",
          "name": "stdout",
          "text": [
            "Введите размер первого множества: 9\n",
            "Введите размер второго множества: 10\n",
            "Список n:\n",
            "[8, 1, 5, 6, 8, 3, 1, 7, 9]\n",
            "\n",
            "Список m:\n",
            "[10, 8, 6, 4, 8, 6, 10, 10, 10, 10]\n",
            "\n",
            "Пересечение данных списков в порядке возрастания:\n",
            "[6, 8]\n"
          ]
        }
      ],
      "source": [
        "from random import randint\n",
        "\n",
        "n = int(input('Введите размер первого множества: '))\n",
        "m = int(input('Введите размер второго множества: '))\n",
        "\n",
        "list_n = [randint(0, 10) for _ in range(n)]\n",
        "list_m = [randint(0, 10) for _ in range(m)]\n",
        "\n",
        "print(f'Список n:\\n{list_n}\\n')\n",
        "print(f'Список m:\\n{list_m}\\n')\n",
        "\n",
        "intersection_set = set(list_n) & set(list_m)\n",
        "\n",
        "print('Пересечение данных списков в порядке возрастания:')\n",
        "print(sorted(list(intersection_set)))"
      ]
    },
    {
      "cell_type": "markdown",
      "source": [
        "Задача 24: В фермерском хозяйстве в Карелии выращивают чернику. Она растет на круглой грядке, причем кусты высажены только по окружности. Таким образом, у каждого куста есть ровно два соседних. Всего на грядке растет N кустов.\n",
        "Эти кусты обладают разной урожайностью, поэтому ко времени сбора на них выросло различное число ягод – на i-ом кусте выросло ai ягод.\n",
        "В этом фермерском хозяйстве внедрена система автоматического сбора черники. Эта система состоит из управляющего модуля и нескольких собирающих модулей. Собирающий модуль за один заход, находясь непосредственно перед некоторым кустом, собирает ягоды с этого куста и с двух соседних с ним.\n",
        "Напишите программу для нахождения максимального числа ягод, которое может собрать за один заход собирающий модуль, находясь перед некоторым кустом заданной во входном файле грядки."
      ],
      "metadata": {
        "id": "CF-087t2jw69"
      }
    },
    {
      "cell_type": "code",
      "source": [
        "from random import randint\n",
        "\n",
        "N = randint(5,25)\n",
        "\n",
        "yield_bushes = [randint(5,25) for _ in range(N)]\n",
        "bush_num = [i+1 for i in range(N)]\n",
        "\n",
        "print(f'В секции растет {N} кустов')\n",
        "print(f'Урожайность кустов:\\n{yield_bushes}\\n')\n",
        "\n",
        "max_yield_3 = 0\n",
        "\n",
        "for i in range(N):\n",
        "\n",
        "  if yield_bushes[-i-1] + yield_bushes[-i] + yield_bushes[-i+1] > max_yield_3:\n",
        "    max_yield_3 = yield_bushes[-i-1] + yield_bushes[-i] + yield_bushes[-i+1]\n",
        "    max_id_bus = - i\n",
        "\n",
        "print(f'Макимальая урожайность на ходится на кустах: {bush_num[max_id_bus-1]} {bush_num[max_id_bus]} {bush_num[max_id_bus+1]}')\n",
        "print(f'Будет собрано {max_yield_3} кг')"
      ],
      "metadata": {
        "colab": {
          "base_uri": "https://localhost:8080/"
        },
        "id": "__yZQBq1ivmn",
        "outputId": "75f830e6-f5d4-41dc-86b4-752837a5666f"
      },
      "execution_count": 42,
      "outputs": [
        {
          "output_type": "stream",
          "name": "stdout",
          "text": [
            "В секции растет 14 кустов\n",
            "Урожайность кустов:\n",
            "[20, 13, 18, 16, 18, 18, 23, 9, 10, 19, 12, 25, 23, 16]\n",
            "\n",
            "Макимальая урожайность на ходится на кустах: 12 13 14\n",
            "Будет собрано 64 кг\n"
          ]
        }
      ]
    },
    {
      "cell_type": "code",
      "source": [],
      "metadata": {
        "id": "m6jAUCailRzz"
      },
      "execution_count": 13,
      "outputs": []
    }
  ]
}