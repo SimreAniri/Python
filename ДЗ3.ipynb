{
  "nbformat": 4,
  "nbformat_minor": 0,
  "metadata": {
    "colab": {
      "provenance": [],
      "authorship_tag": "ABX9TyMITqr11fAZ1aeOzgIpxX+W"
    },
    "kernelspec": {
      "name": "python3",
      "display_name": "Python 3"
    },
    "language_info": {
      "name": "python"
    }
  },
  "cells": [
    {
      "cell_type": "markdown",
      "source": [
        "Задача 16:\n",
        "Требуется вычислить, сколько раз встречается некоторое число X в массиве A[1..N].\n",
        "Пользователь вводит натуральное число N – количество элементов в массиве и число, которое необходимо проверить - X.\n",
        "Заполните массив случайными натуральными числами от 1 до N/2.\n",
        "Выведите, сколько раз X встречается в массиве.\n",
        "\n",
        "Ввод: 5\n",
        "\n",
        "Ввод: 1\n",
        "\n",
        "1 2 1 2 2\n",
        "\n",
        "Вывод: 2"
      ],
      "metadata": {
        "id": "7ZbP24UfhkCz"
      }
    },
    {
      "cell_type": "code",
      "execution_count": 7,
      "metadata": {
        "colab": {
          "base_uri": "https://localhost:8080/"
        },
        "id": "EeyuKL1zhhDQ",
        "outputId": "e098f22b-0fe5-426a-8767-b6855fa7827c"
      },
      "outputs": [
        {
          "output_type": "stream",
          "name": "stdout",
          "text": [
            "Введите количество элементов в массиве: 5\n",
            "Введите число для проверки: 3\n",
            "Список:\n",
            "[2, 3, 1, 1, 3]\n",
            "Число 3 встречается в списке 2 раз\n"
          ]
        }
      ],
      "source": [
        "from random import randint\n",
        "\n",
        "N = int(input('Введите количество элементов в массиве: '))\n",
        "x = int(input('Введите число для проверки: '))\n",
        "\n",
        "rand_list = [randint(1, round(N / 2) + 1) for _ in range(N)]\n",
        "\n",
        "count_x = 0\n",
        "\n",
        "for i in rand_list:\n",
        "  if i == x:\n",
        "    count_x += 1\n",
        "\n",
        "print(f'Список:\\n{rand_list}\\nЧисло {x} встречается в списке {count_x} раз')"
      ]
    },
    {
      "cell_type": "markdown",
      "source": [
        "Задача 18:\n",
        "Требуется найти в массиве A[1..N] самый близкий по величине элемент к заданному числу X.\n",
        "Пользователь вводит натуральное число N – количество элементов в массиве и число, которое необходимо проверить - X.\n",
        "Заполните массив случайными натуральными числами от 1 до N.\n",
        "Выведите, ближайший к X элемент. Если есть несколько элементов, которые равноудалены от X, выведите наименьший по величине.\n",
        "\n",
        "Ввод: 10\n",
        "\n",
        "Ввод: 7\n",
        "\n",
        "1 2 1 8 9 6 5 4 3 4\n",
        "\n",
        "Вывод: 6"
      ],
      "metadata": {
        "id": "i-I8oZXtkOPA"
      }
    },
    {
      "cell_type": "code",
      "source": [
        "from random import randint\n",
        "\n",
        "N = int(input('Введите количество элементов в массиве: '))\n",
        "x = int(input('Введите число для проверки: '))\n",
        "\n",
        "rand_list = [randint(1,N) for _ in range(N)]\n",
        "print(f'Массив: {rand_list}')\n",
        "\n",
        "less = N + 1\n",
        "more = N + 1\n",
        "\n",
        "for i in rand_list:\n",
        "  if i < x:\n",
        "    if x - i < less:\n",
        "      less = x - i\n",
        "    \n",
        "  elif x < i:\n",
        "    if i - x < more:\n",
        "      more = i - x\n",
        "\n",
        "if more == less:\n",
        "  print(f'Ближайшее число {x - less}')\n",
        "\n",
        "elif less < more:\n",
        "  print(f'Ближайшее число {x - less}')\n",
        "\n",
        "else:\n",
        "  print(f'Ближайшее число {x + more}')"
      ],
      "metadata": {
        "colab": {
          "base_uri": "https://localhost:8080/"
        },
        "id": "BHYGkNDhiIcg",
        "outputId": "c02be43c-f34b-4110-d1cb-b03255f9a0c9"
      },
      "execution_count": 20,
      "outputs": [
        {
          "output_type": "stream",
          "name": "stdout",
          "text": [
            "Введите количество элементов в массиве: 18\n",
            "Введите число для проверки: 7\n",
            "Массив: [8, 10, 12, 13, 17, 8, 13, 8, 10, 7, 6, 16, 10, 10, 4, 4, 17, 13]\n",
            "Ближайшее число 6\n"
          ]
        }
      ]
    },
    {
      "cell_type": "markdown",
      "source": [
        "В настольной игре Скрабл (Scrabble) каждая буква имеет определенную ценность.\n",
        "\n",
        "В случае с английским алфавитом очки распределяются так:\n",
        "\n",
        "A, E, I, O, U, L, N, S, T, R – 1 очко;\n",
        "\n",
        "D, G – 2 очка;\n",
        "\n",
        "B, C, M, P – 3 очка;\n",
        "\n",
        "F, H, V, W, Y – 4 очка;\n",
        "\n",
        "K – 5 очков;\n",
        "\n",
        "J, X – 8 очков;\n",
        "\n",
        "Q, Z – 10 очков.\n",
        "\n",
        "А русские буквы оцениваются так:\n",
        "\n",
        "А, В, Е, И, Н, О, Р, С, Т – 1 очко;\n",
        "\n",
        "Д, К, Л, М, П, У – 2 очка;\n",
        "\n",
        "Б, Г, Ё, Ь, Я – 3 очка;\n",
        "\n",
        "Й, Ы – 4 очка;\n",
        "\n",
        "Ж, З, Х, Ц, Ч – 5 очков;\n",
        "\n",
        "Ш, Э, Ю – 8 очков;\n",
        "\n",
        "Ф, Щ, Ъ – 10 очков.\n",
        "\n",
        "Напишите программу, которая вычисляет стоимость введенного пользователем слова.\n",
        "Будем считать, что на вход подается только одно слово, которое содержит либо только английские, либо только русские буквы.\n",
        "\n",
        "Ввод: ноутбук\n",
        "\n",
        "Вывод: 12"
      ],
      "metadata": {
        "id": "tuvcHop0o5co"
      }
    },
    {
      "cell_type": "code",
      "source": [
        "# eng_dict = dict()\n",
        "\n",
        "# for i in ['A', 'E', 'I', 'O', 'U', 'L', 'N', 'S', 'T', 'R']:\n",
        "#   eng_dict[i] = 1\n",
        "\n",
        "# for i in ['D', 'G']:\n",
        "#   eng_dict[i] = 2\n",
        "\n",
        "# for i in ['B', 'C', 'M', 'P']:\n",
        "#   eng_dict[i] = 3\n",
        "\n",
        "# for i in ['F', 'H', 'V', 'W', 'Y']:\n",
        "#   eng_dict[i] = 4\n",
        "\n",
        "# eng_dict['K'] = 5\n",
        "# eng_dict['J'] = 8\n",
        "# eng_dict['X'] = 8\n",
        "# eng_dict['Q'] = 10\n",
        "# eng_dict['Z'] = 10\n",
        "\n",
        "# rus_dict = dict()\n",
        "\n",
        "# for i in ['А', 'В', 'Е', 'И', 'Н', 'О', 'Р', 'С', 'Т']:\n",
        "#   rus_dict[i] = 1\n",
        "\n",
        "# for i in ['Д', 'К', 'Л', 'М', 'П', 'У']:\n",
        "#   rus_dict[i] = 2\n",
        "\n",
        "# for i in ['Б', 'Г', 'Ё', 'Ь', 'Я']:\n",
        "#   rus_dict[i] = 3\n",
        "\n",
        "# for i in ['Ж', 'З', 'Х', 'Ц', 'Ч']:\n",
        "#   rus_dict[i] = 5\n",
        "\n",
        "# for i in ['Ш', 'Э', 'Ю']:\n",
        "#   rus_dict[i] = 8\n",
        "\n",
        "# for i in ['Ф', 'Щ', 'Ъ']:\n",
        "#   rus_dict[i] = 10\n",
        "\n",
        "# rus_dict['Й'] = 4\n",
        "# rus_dict['Ы'] = 4\n",
        "\n",
        "# print(rus_dict)\n",
        "# print()\n",
        "# print(eng_dict)"
      ],
      "metadata": {
        "id": "SdImJwYJmycG"
      },
      "execution_count": 22,
      "outputs": []
    },
    {
      "cell_type": "code",
      "source": [
        "import re\n",
        "\n",
        "rus_dict = {'А': 1, 'В': 1, 'Е': 1, 'И': 1, 'Н': 1, 'О': 1, 'Р': 1, 'С': 1, 'Т': 1, \n",
        "            'Д': 2, 'К': 2, 'Л': 2, 'М': 2, 'П': 2, 'У': 2, 'Б': 3, 'Г': 3, 'Ё': 3, \n",
        "            'Ь': 3, 'Я': 3, 'Ж': 5, 'З': 5, 'Х': 5, 'Ц': 5, 'Ч': 5, 'Ш': 8, 'Э': 8, \n",
        "            'Ю': 8, 'Ф': 10, 'Щ': 10, 'Ъ': 10, 'Й': 4, 'Ы': 4}\n",
        "\n",
        "eng_dict = {'A': 1, 'E': 1, 'I': 1, 'O': 1, 'U': 1, 'L': 1, 'N': 1, 'S': 1, 'T': 1, \n",
        "            'R': 1, 'D': 2, 'G': 2, 'B': 3, 'C': 3, 'M': 3, 'P': 3, 'F': 4, 'H': 4, \n",
        "            'V': 4, 'W': 4, 'Y': 4, 'K': 5, 'J': 8, 'X': 8, 'Q': 10, 'Z': 10}\n",
        "\n",
        "while True:\n",
        "  word = input('Введите слово: ')\n",
        "\n",
        "  if ' ' in word:\n",
        "    print('Нужно ввести 1 слово')\n",
        "    continue\n",
        "\n",
        "  if word.isalpha():\n",
        "    word = word.upper()\n",
        "\n",
        "    if re.match(r'^[A-Z]+$', word):\n",
        "      print('Это английское слово')\n",
        "      language = 'eng'\n",
        "      break\n",
        "\n",
        "    elif re.match(r'^[А-Я]+$', word):\n",
        "      print('Это русское слово')\n",
        "      language = 'rus'\n",
        "      break\n",
        "\n",
        "    else:\n",
        "      print('Вы напутали с языком')\n",
        "      continue\n",
        "\n",
        "  else:\n",
        "    print('В слове должны присутствовать толко буквы')\n",
        "    continue\n",
        "\n",
        "score = 0\n",
        "\n",
        "if language == 'eng':\n",
        "  for w in word:\n",
        "    score += eng_dict[w]\n",
        "\n",
        "elif language == 'rus':\n",
        "  for w in word:\n",
        "    score += rus_dict[w]\n",
        "\n",
        "print(f'Вы набрали {score} очков')"
      ],
      "metadata": {
        "colab": {
          "base_uri": "https://localhost:8080/"
        },
        "id": "wZi-vcj9rcPF",
        "outputId": "c75a36b7-bb40-44fa-e766-1f99c43aab17"
      },
      "execution_count": 35,
      "outputs": [
        {
          "output_type": "stream",
          "name": "stdout",
          "text": [
            "Введите слово: 45\n",
            "В слове должны присутствовать толко буквы\n",
            "Введите слово: 345аар\n",
            "В слове должны присутствовать толко буквы\n",
            "Введите слово: впы куеку ку\n",
            "Нужно ввести 1 слово\n",
            "Введите слово: ноутбук\n",
            "Это русское слово\n",
            "Вы набрали 12 очков\n"
          ]
        }
      ]
    },
    {
      "cell_type": "code",
      "source": [],
      "metadata": {
        "id": "0bCDhHy5u54E"
      },
      "execution_count": null,
      "outputs": []
    }
  ]
}